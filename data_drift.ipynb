{
  "nbformat": 4,
  "nbformat_minor": 0,
  "metadata": {
    "colab": {
      "name": "data_drift.ipynb",
      "provenance": [],
      "authorship_tag": "ABX9TyN3ZPMs8s6RSAQYQm4DSqkl",
      "include_colab_link": true
    },
    "kernelspec": {
      "name": "python3",
      "display_name": "Python 3"
    },
    "language_info": {
      "name": "python"
    }
  },
  "cells": [
    {
      "cell_type": "markdown",
      "metadata": {
        "id": "view-in-github",
        "colab_type": "text"
      },
      "source": [
        "<a href=\"https://colab.research.google.com/github/ldselvera/data_drift/blob/main/data_drift.ipynb\" target=\"_parent\"><img src=\"https://colab.research.google.com/assets/colab-badge.svg\" alt=\"Open In Colab\"/></a>"
      ]
    },
    {
      "cell_type": "markdown",
      "source": [
        "# Data Drift Detection"
      ],
      "metadata": {
        "id": "zVnwFA4edgan"
      }
    },
    {
      "cell_type": "code",
      "execution_count": 8,
      "metadata": {
        "id": "xq0XvQ36YuJs"
      },
      "outputs": [],
      "source": [
        "import numpy as np\n",
        "import pandas as pd\n",
        "\n",
        "from scipy import stats"
      ]
    },
    {
      "cell_type": "code",
      "source": [
        "df=pd.read_csv('Churn_Modelling.csv')\n",
        "df.head()"
      ],
      "metadata": {
        "colab": {
          "base_uri": "https://localhost:8080/",
          "height": 206
        },
        "id": "X6wkXL8zZLlA",
        "outputId": "6a2fc294-bd69-47c5-b1fe-a7604ac89b82"
      },
      "execution_count": 3,
      "outputs": [
        {
          "output_type": "execute_result",
          "data": {
            "text/plain": [
              "   RowNumber  CustomerId   Surname  CreditScore Geography  Gender  Age  \\\n",
              "0          1    15634602  Hargrave          619    France  Female   42   \n",
              "1          2    15647311      Hill          608     Spain  Female   41   \n",
              "2          3    15619304      Onio          502    France  Female   42   \n",
              "3          4    15701354      Boni          699    France  Female   39   \n",
              "4          5    15737888  Mitchell          850     Spain  Female   43   \n",
              "\n",
              "   Tenure    Balance  NumOfProducts  HasCrCard  IsActiveMember  \\\n",
              "0       2       0.00              1          1               1   \n",
              "1       1   83807.86              1          0               1   \n",
              "2       8  159660.80              3          1               0   \n",
              "3       1       0.00              2          0               0   \n",
              "4       2  125510.82              1          1               1   \n",
              "\n",
              "   EstimatedSalary  Exited  \n",
              "0        101348.88       1  \n",
              "1        112542.58       0  \n",
              "2        113931.57       1  \n",
              "3         93826.63       0  \n",
              "4         79084.10       0  "
            ],
            "text/html": [
              "\n",
              "  <div id=\"df-fe0dd9ac-903f-4f77-9bd9-af54ce7357d2\">\n",
              "    <div class=\"colab-df-container\">\n",
              "      <div>\n",
              "<style scoped>\n",
              "    .dataframe tbody tr th:only-of-type {\n",
              "        vertical-align: middle;\n",
              "    }\n",
              "\n",
              "    .dataframe tbody tr th {\n",
              "        vertical-align: top;\n",
              "    }\n",
              "\n",
              "    .dataframe thead th {\n",
              "        text-align: right;\n",
              "    }\n",
              "</style>\n",
              "<table border=\"1\" class=\"dataframe\">\n",
              "  <thead>\n",
              "    <tr style=\"text-align: right;\">\n",
              "      <th></th>\n",
              "      <th>RowNumber</th>\n",
              "      <th>CustomerId</th>\n",
              "      <th>Surname</th>\n",
              "      <th>CreditScore</th>\n",
              "      <th>Geography</th>\n",
              "      <th>Gender</th>\n",
              "      <th>Age</th>\n",
              "      <th>Tenure</th>\n",
              "      <th>Balance</th>\n",
              "      <th>NumOfProducts</th>\n",
              "      <th>HasCrCard</th>\n",
              "      <th>IsActiveMember</th>\n",
              "      <th>EstimatedSalary</th>\n",
              "      <th>Exited</th>\n",
              "    </tr>\n",
              "  </thead>\n",
              "  <tbody>\n",
              "    <tr>\n",
              "      <th>0</th>\n",
              "      <td>1</td>\n",
              "      <td>15634602</td>\n",
              "      <td>Hargrave</td>\n",
              "      <td>619</td>\n",
              "      <td>France</td>\n",
              "      <td>Female</td>\n",
              "      <td>42</td>\n",
              "      <td>2</td>\n",
              "      <td>0.00</td>\n",
              "      <td>1</td>\n",
              "      <td>1</td>\n",
              "      <td>1</td>\n",
              "      <td>101348.88</td>\n",
              "      <td>1</td>\n",
              "    </tr>\n",
              "    <tr>\n",
              "      <th>1</th>\n",
              "      <td>2</td>\n",
              "      <td>15647311</td>\n",
              "      <td>Hill</td>\n",
              "      <td>608</td>\n",
              "      <td>Spain</td>\n",
              "      <td>Female</td>\n",
              "      <td>41</td>\n",
              "      <td>1</td>\n",
              "      <td>83807.86</td>\n",
              "      <td>1</td>\n",
              "      <td>0</td>\n",
              "      <td>1</td>\n",
              "      <td>112542.58</td>\n",
              "      <td>0</td>\n",
              "    </tr>\n",
              "    <tr>\n",
              "      <th>2</th>\n",
              "      <td>3</td>\n",
              "      <td>15619304</td>\n",
              "      <td>Onio</td>\n",
              "      <td>502</td>\n",
              "      <td>France</td>\n",
              "      <td>Female</td>\n",
              "      <td>42</td>\n",
              "      <td>8</td>\n",
              "      <td>159660.80</td>\n",
              "      <td>3</td>\n",
              "      <td>1</td>\n",
              "      <td>0</td>\n",
              "      <td>113931.57</td>\n",
              "      <td>1</td>\n",
              "    </tr>\n",
              "    <tr>\n",
              "      <th>3</th>\n",
              "      <td>4</td>\n",
              "      <td>15701354</td>\n",
              "      <td>Boni</td>\n",
              "      <td>699</td>\n",
              "      <td>France</td>\n",
              "      <td>Female</td>\n",
              "      <td>39</td>\n",
              "      <td>1</td>\n",
              "      <td>0.00</td>\n",
              "      <td>2</td>\n",
              "      <td>0</td>\n",
              "      <td>0</td>\n",
              "      <td>93826.63</td>\n",
              "      <td>0</td>\n",
              "    </tr>\n",
              "    <tr>\n",
              "      <th>4</th>\n",
              "      <td>5</td>\n",
              "      <td>15737888</td>\n",
              "      <td>Mitchell</td>\n",
              "      <td>850</td>\n",
              "      <td>Spain</td>\n",
              "      <td>Female</td>\n",
              "      <td>43</td>\n",
              "      <td>2</td>\n",
              "      <td>125510.82</td>\n",
              "      <td>1</td>\n",
              "      <td>1</td>\n",
              "      <td>1</td>\n",
              "      <td>79084.10</td>\n",
              "      <td>0</td>\n",
              "    </tr>\n",
              "  </tbody>\n",
              "</table>\n",
              "</div>\n",
              "      <button class=\"colab-df-convert\" onclick=\"convertToInteractive('df-fe0dd9ac-903f-4f77-9bd9-af54ce7357d2')\"\n",
              "              title=\"Convert this dataframe to an interactive table.\"\n",
              "              style=\"display:none;\">\n",
              "        \n",
              "  <svg xmlns=\"http://www.w3.org/2000/svg\" height=\"24px\"viewBox=\"0 0 24 24\"\n",
              "       width=\"24px\">\n",
              "    <path d=\"M0 0h24v24H0V0z\" fill=\"none\"/>\n",
              "    <path d=\"M18.56 5.44l.94 2.06.94-2.06 2.06-.94-2.06-.94-.94-2.06-.94 2.06-2.06.94zm-11 1L8.5 8.5l.94-2.06 2.06-.94-2.06-.94L8.5 2.5l-.94 2.06-2.06.94zm10 10l.94 2.06.94-2.06 2.06-.94-2.06-.94-.94-2.06-.94 2.06-2.06.94z\"/><path d=\"M17.41 7.96l-1.37-1.37c-.4-.4-.92-.59-1.43-.59-.52 0-1.04.2-1.43.59L10.3 9.45l-7.72 7.72c-.78.78-.78 2.05 0 2.83L4 21.41c.39.39.9.59 1.41.59.51 0 1.02-.2 1.41-.59l7.78-7.78 2.81-2.81c.8-.78.8-2.07 0-2.86zM5.41 20L4 18.59l7.72-7.72 1.47 1.35L5.41 20z\"/>\n",
              "  </svg>\n",
              "      </button>\n",
              "      \n",
              "  <style>\n",
              "    .colab-df-container {\n",
              "      display:flex;\n",
              "      flex-wrap:wrap;\n",
              "      gap: 12px;\n",
              "    }\n",
              "\n",
              "    .colab-df-convert {\n",
              "      background-color: #E8F0FE;\n",
              "      border: none;\n",
              "      border-radius: 50%;\n",
              "      cursor: pointer;\n",
              "      display: none;\n",
              "      fill: #1967D2;\n",
              "      height: 32px;\n",
              "      padding: 0 0 0 0;\n",
              "      width: 32px;\n",
              "    }\n",
              "\n",
              "    .colab-df-convert:hover {\n",
              "      background-color: #E2EBFA;\n",
              "      box-shadow: 0px 1px 2px rgba(60, 64, 67, 0.3), 0px 1px 3px 1px rgba(60, 64, 67, 0.15);\n",
              "      fill: #174EA6;\n",
              "    }\n",
              "\n",
              "    [theme=dark] .colab-df-convert {\n",
              "      background-color: #3B4455;\n",
              "      fill: #D2E3FC;\n",
              "    }\n",
              "\n",
              "    [theme=dark] .colab-df-convert:hover {\n",
              "      background-color: #434B5C;\n",
              "      box-shadow: 0px 1px 3px 1px rgba(0, 0, 0, 0.15);\n",
              "      filter: drop-shadow(0px 1px 2px rgba(0, 0, 0, 0.3));\n",
              "      fill: #FFFFFF;\n",
              "    }\n",
              "  </style>\n",
              "\n",
              "      <script>\n",
              "        const buttonEl =\n",
              "          document.querySelector('#df-fe0dd9ac-903f-4f77-9bd9-af54ce7357d2 button.colab-df-convert');\n",
              "        buttonEl.style.display =\n",
              "          google.colab.kernel.accessAllowed ? 'block' : 'none';\n",
              "\n",
              "        async function convertToInteractive(key) {\n",
              "          const element = document.querySelector('#df-fe0dd9ac-903f-4f77-9bd9-af54ce7357d2');\n",
              "          const dataTable =\n",
              "            await google.colab.kernel.invokeFunction('convertToInteractive',\n",
              "                                                     [key], {});\n",
              "          if (!dataTable) return;\n",
              "\n",
              "          const docLinkHtml = 'Like what you see? Visit the ' +\n",
              "            '<a target=\"_blank\" href=https://colab.research.google.com/notebooks/data_table.ipynb>data table notebook</a>'\n",
              "            + ' to learn more about interactive tables.';\n",
              "          element.innerHTML = '';\n",
              "          dataTable['output_type'] = 'display_data';\n",
              "          await google.colab.output.renderOutput(dataTable, element);\n",
              "          const docLink = document.createElement('div');\n",
              "          docLink.innerHTML = docLinkHtml;\n",
              "          element.appendChild(docLink);\n",
              "        }\n",
              "      </script>\n",
              "    </div>\n",
              "  </div>\n",
              "  "
            ]
          },
          "metadata": {},
          "execution_count": 3
        }
      ]
    },
    {
      "cell_type": "code",
      "source": [
        "df.drop(['RowNumber','CustomerId','Surname'],axis=1,inplace=True)\n",
        "df_numerical=df.iloc[:,[3,4,5,9]]\n",
        "df_numerical.head()"
      ],
      "metadata": {
        "colab": {
          "base_uri": "https://localhost:8080/",
          "height": 206
        },
        "id": "uqslLkkvZPAV",
        "outputId": "a638b6c7-4558-4a7b-c9de-32eed6cdaf6d"
      },
      "execution_count": 4,
      "outputs": [
        {
          "output_type": "execute_result",
          "data": {
            "text/plain": [
              "   Age  Tenure    Balance  EstimatedSalary\n",
              "0   42       2       0.00        101348.88\n",
              "1   41       1   83807.86        112542.58\n",
              "2   42       8  159660.80        113931.57\n",
              "3   39       1       0.00         93826.63\n",
              "4   43       2  125510.82         79084.10"
            ],
            "text/html": [
              "\n",
              "  <div id=\"df-9f65c601-c31e-46de-bf67-72e6cba2a7c2\">\n",
              "    <div class=\"colab-df-container\">\n",
              "      <div>\n",
              "<style scoped>\n",
              "    .dataframe tbody tr th:only-of-type {\n",
              "        vertical-align: middle;\n",
              "    }\n",
              "\n",
              "    .dataframe tbody tr th {\n",
              "        vertical-align: top;\n",
              "    }\n",
              "\n",
              "    .dataframe thead th {\n",
              "        text-align: right;\n",
              "    }\n",
              "</style>\n",
              "<table border=\"1\" class=\"dataframe\">\n",
              "  <thead>\n",
              "    <tr style=\"text-align: right;\">\n",
              "      <th></th>\n",
              "      <th>Age</th>\n",
              "      <th>Tenure</th>\n",
              "      <th>Balance</th>\n",
              "      <th>EstimatedSalary</th>\n",
              "    </tr>\n",
              "  </thead>\n",
              "  <tbody>\n",
              "    <tr>\n",
              "      <th>0</th>\n",
              "      <td>42</td>\n",
              "      <td>2</td>\n",
              "      <td>0.00</td>\n",
              "      <td>101348.88</td>\n",
              "    </tr>\n",
              "    <tr>\n",
              "      <th>1</th>\n",
              "      <td>41</td>\n",
              "      <td>1</td>\n",
              "      <td>83807.86</td>\n",
              "      <td>112542.58</td>\n",
              "    </tr>\n",
              "    <tr>\n",
              "      <th>2</th>\n",
              "      <td>42</td>\n",
              "      <td>8</td>\n",
              "      <td>159660.80</td>\n",
              "      <td>113931.57</td>\n",
              "    </tr>\n",
              "    <tr>\n",
              "      <th>3</th>\n",
              "      <td>39</td>\n",
              "      <td>1</td>\n",
              "      <td>0.00</td>\n",
              "      <td>93826.63</td>\n",
              "    </tr>\n",
              "    <tr>\n",
              "      <th>4</th>\n",
              "      <td>43</td>\n",
              "      <td>2</td>\n",
              "      <td>125510.82</td>\n",
              "      <td>79084.10</td>\n",
              "    </tr>\n",
              "  </tbody>\n",
              "</table>\n",
              "</div>\n",
              "      <button class=\"colab-df-convert\" onclick=\"convertToInteractive('df-9f65c601-c31e-46de-bf67-72e6cba2a7c2')\"\n",
              "              title=\"Convert this dataframe to an interactive table.\"\n",
              "              style=\"display:none;\">\n",
              "        \n",
              "  <svg xmlns=\"http://www.w3.org/2000/svg\" height=\"24px\"viewBox=\"0 0 24 24\"\n",
              "       width=\"24px\">\n",
              "    <path d=\"M0 0h24v24H0V0z\" fill=\"none\"/>\n",
              "    <path d=\"M18.56 5.44l.94 2.06.94-2.06 2.06-.94-2.06-.94-.94-2.06-.94 2.06-2.06.94zm-11 1L8.5 8.5l.94-2.06 2.06-.94-2.06-.94L8.5 2.5l-.94 2.06-2.06.94zm10 10l.94 2.06.94-2.06 2.06-.94-2.06-.94-.94-2.06-.94 2.06-2.06.94z\"/><path d=\"M17.41 7.96l-1.37-1.37c-.4-.4-.92-.59-1.43-.59-.52 0-1.04.2-1.43.59L10.3 9.45l-7.72 7.72c-.78.78-.78 2.05 0 2.83L4 21.41c.39.39.9.59 1.41.59.51 0 1.02-.2 1.41-.59l7.78-7.78 2.81-2.81c.8-.78.8-2.07 0-2.86zM5.41 20L4 18.59l7.72-7.72 1.47 1.35L5.41 20z\"/>\n",
              "  </svg>\n",
              "      </button>\n",
              "      \n",
              "  <style>\n",
              "    .colab-df-container {\n",
              "      display:flex;\n",
              "      flex-wrap:wrap;\n",
              "      gap: 12px;\n",
              "    }\n",
              "\n",
              "    .colab-df-convert {\n",
              "      background-color: #E8F0FE;\n",
              "      border: none;\n",
              "      border-radius: 50%;\n",
              "      cursor: pointer;\n",
              "      display: none;\n",
              "      fill: #1967D2;\n",
              "      height: 32px;\n",
              "      padding: 0 0 0 0;\n",
              "      width: 32px;\n",
              "    }\n",
              "\n",
              "    .colab-df-convert:hover {\n",
              "      background-color: #E2EBFA;\n",
              "      box-shadow: 0px 1px 2px rgba(60, 64, 67, 0.3), 0px 1px 3px 1px rgba(60, 64, 67, 0.15);\n",
              "      fill: #174EA6;\n",
              "    }\n",
              "\n",
              "    [theme=dark] .colab-df-convert {\n",
              "      background-color: #3B4455;\n",
              "      fill: #D2E3FC;\n",
              "    }\n",
              "\n",
              "    [theme=dark] .colab-df-convert:hover {\n",
              "      background-color: #434B5C;\n",
              "      box-shadow: 0px 1px 3px 1px rgba(0, 0, 0, 0.15);\n",
              "      filter: drop-shadow(0px 1px 2px rgba(0, 0, 0, 0.3));\n",
              "      fill: #FFFFFF;\n",
              "    }\n",
              "  </style>\n",
              "\n",
              "      <script>\n",
              "        const buttonEl =\n",
              "          document.querySelector('#df-9f65c601-c31e-46de-bf67-72e6cba2a7c2 button.colab-df-convert');\n",
              "        buttonEl.style.display =\n",
              "          google.colab.kernel.accessAllowed ? 'block' : 'none';\n",
              "\n",
              "        async function convertToInteractive(key) {\n",
              "          const element = document.querySelector('#df-9f65c601-c31e-46de-bf67-72e6cba2a7c2');\n",
              "          const dataTable =\n",
              "            await google.colab.kernel.invokeFunction('convertToInteractive',\n",
              "                                                     [key], {});\n",
              "          if (!dataTable) return;\n",
              "\n",
              "          const docLinkHtml = 'Like what you see? Visit the ' +\n",
              "            '<a target=\"_blank\" href=https://colab.research.google.com/notebooks/data_table.ipynb>data table notebook</a>'\n",
              "            + ' to learn more about interactive tables.';\n",
              "          element.innerHTML = '';\n",
              "          dataTable['output_type'] = 'display_data';\n",
              "          await google.colab.output.renderOutput(dataTable, element);\n",
              "          const docLink = document.createElement('div');\n",
              "          docLink.innerHTML = docLinkHtml;\n",
              "          element.appendChild(docLink);\n",
              "        }\n",
              "      </script>\n",
              "    </div>\n",
              "  </div>\n",
              "  "
            ]
          },
          "metadata": {},
          "execution_count": 4
        }
      ]
    },
    {
      "cell_type": "code",
      "source": [
        "df_salary_low=df_numerical[df_numerical['EstimatedSalary']<=10000] \n",
        "df_salary_high=df_numerical[df_numerical['EstimatedSalary']>10000]"
      ],
      "metadata": {
        "id": "3927yHUqZWoD"
      },
      "execution_count": 7,
      "outputs": []
    },
    {
      "cell_type": "markdown",
      "source": [
        "## Kolmogorov-Smirnov (K-S) test"
      ],
      "metadata": {
        "id": "DGkAoCtZaN6X"
      }
    },
    {
      "cell_type": "markdown",
      "source": [
        "The K-S test is a nonparametric test that compares the cumulative distributions of two data sets. The null hypothesis for this test states that the data distributions from both the datasets are the same. If the null is rejected then we can conclude that there is a drift in the model.\n",
        "\n",
        "In our analysis, we have only considered numerical columns for the test.\n",
        "\n",
        "For generating our final Data Drift analysis, the chi-squared test can be applied for the categorical features to identify data drift."
      ],
      "metadata": {
        "id": "xpSKxax6aTUL"
      }
    },
    {
      "cell_type": "code",
      "source": [
        "p_value = 0.05\n",
        "\n",
        "rejected = 0\n",
        "\n",
        "for col in df_numerical.columns:\n",
        "  test = stats.ks_2samp(df_salary_low[col], df_salary_high[col])\n",
        "\n",
        "  if test[1] < p_value:\n",
        "    rejected += 1\n",
        "    print(\"Column rejected\", col)\n",
        "\n",
        "print(\"We rejected\",rejected,\"columns in total\")"
      ],
      "metadata": {
        "colab": {
          "base_uri": "https://localhost:8080/"
        },
        "id": "v0rcQ4tPZYks",
        "outputId": "ca92d078-fe11-48da-f377-f75bffedada9"
      },
      "execution_count": 9,
      "outputs": [
        {
          "output_type": "stream",
          "name": "stdout",
          "text": [
            "Column rejected Tenure\n",
            "Column rejected EstimatedSalary\n",
            "We rejected 2 columns in total\n"
          ]
        }
      ]
    },
    {
      "cell_type": "markdown",
      "source": [
        "The K-S test has rejected the Tenure and Estimated Salary columns which means that the statistical properties of these two columns for both the datasets are not identical."
      ],
      "metadata": {
        "id": "gzcmV2m3aCc7"
      }
    },
    {
      "cell_type": "markdown",
      "source": [
        "## Population Stability Index"
      ],
      "metadata": {
        "id": "9qnPg-37bOIz"
      }
    },
    {
      "cell_type": "markdown",
      "source": [
        "It compares the distribution of the target variable in the test dataset to a training data set that was used to develop the model."
      ],
      "metadata": {
        "id": "Vd9SJ4QXbXH4"
      }
    },
    {
      "cell_type": "markdown",
      "source": [
        "![image.png](data:image/png;base64,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)"
      ],
      "metadata": {
        "id": "gExwq8x5bZ5X"
      }
    },
    {
      "cell_type": "markdown",
      "source": [
        "1. Divide the expected (test) dataset and the actual (training dataset) into buckets and define the boundary values of the buckets based on the minimum and maximum values of that column in train data.\n",
        "\n",
        "2. Calculate the % of observations in each bucket for both expected and actual datasets.\n",
        "\n",
        "3. Calculate the PSI as given in the formula"
      ],
      "metadata": {
        "id": "iTwqIgn8bewK"
      }
    },
    {
      "cell_type": "markdown",
      "source": [
        "* PSI<=1\n",
        ": This means there is no change or shift in the distributions of both datasets.\n",
        "\n",
        "* 0.1< PSI<0.2\n",
        ": This indicates a slight change or shift has occurred.\n",
        "\n",
        "* PSI>0.2\n",
        ": This indicates a large shift in the distribution has occurred between both datasets."
      ],
      "metadata": {
        "id": "vPpQZtoDbmLM"
      }
    },
    {
      "cell_type": "code",
      "source": [
        "def scale_range (input, min, max):\n",
        "  input += -(np.min(input))\n",
        "  input /= np.max(input) / (max - min)\n",
        "  input += min\n",
        "\n",
        "  return input    \n",
        "\n",
        "def sub_psi(e_perc, a_perc):\n",
        "  if a_perc == 0:\n",
        "      a_perc = 0.0001\n",
        "  if e_perc == 0:\n",
        "      e_perc = 0.0001\n",
        "      \n",
        "  value = (e_perc - a_perc) * np.log(e_perc / a_perc)\n",
        "  \n",
        "  return(value)\n",
        "\n",
        "def psi(expected_array, actual_array, buckets):\n",
        "  breakpoints = np.arange(0, buckets + 1) / (buckets) * 100\n",
        "  breakpoints = scale_range(breakpoints, np.min(expected_array), np.max(expected_array))\n",
        "  expected_percents = np.histogram(expected_array, breakpoints)[0] / len(expected_array)\n",
        "  actual_percents = np.histogram(actual_array, breakpoints)[0] / len(actual_array)\n",
        "  psi_value = np.sum(sub_psi(expected_percents[i], actual_percents[i]) for i in range(0, len(expected_percents)))\n",
        "\n",
        "  return(psi_value)  \n",
        "\n",
        "def calculate_psi(expected, actual, buckettype='bins', buckets=10, axis=0):\n",
        "  if len(expected.shape) == 1:\n",
        "      psi_values = np.empty(len(expected.shape))\n",
        "  else:\n",
        "      psi_values = np.empty(expected.shape[axis])       \n",
        "\n",
        "  for i in range(0, len(psi_values)):\n",
        "        psi_values = psi(expected, actual, buckets)\n",
        "    \n",
        "  return(psi_values)"
      ],
      "metadata": {
        "id": "NT_xfh1lZn5l"
      },
      "execution_count": 14,
      "outputs": []
    },
    {
      "cell_type": "code",
      "source": [
        "## Calculate psi for features\n",
        "top_feature_list=df_salary_high.columns\n",
        "\n",
        "for feature in top_feature_list:\n",
        "  psi_t = calculate_psi(df_salary_high[feature], df_salary_low[feature])    \n",
        "  print('Stability index for column ',feature,'is',psi_t)"
      ],
      "metadata": {
        "colab": {
          "base_uri": "https://localhost:8080/"
        },
        "id": "BgrRzBnQcqVb",
        "outputId": "acaa3206-70a6-4393-b97d-158ce45767b1"
      },
      "execution_count": 17,
      "outputs": [
        {
          "output_type": "stream",
          "name": "stdout",
          "text": [
            "Stability index for column  Age is 0.03165502336203871\n",
            "Stability index for column  Tenure is 0.020563301225388273\n",
            "Stability index for column  Balance is 0.017962803253901614\n",
            "Stability index for column  EstimatedSalary is 6.901206246148547\n"
          ]
        },
        {
          "output_type": "stream",
          "name": "stderr",
          "text": [
            "/usr/local/lib/python3.7/dist-packages/ipykernel_launcher.py:21: DeprecationWarning: Calling np.sum(generator) is deprecated, and in the future will give a different result. Use np.sum(np.fromiter(generator)) or the python sum builtin instead.\n"
          ]
        }
      ]
    }
  ]
}